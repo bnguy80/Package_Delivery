{
 "cells": [
  {
   "cell_type": "code",
   "execution_count": 1,
   "outputs": [],
   "source": [
    "import pandas as pd\n"
   ],
   "metadata": {
    "collapsed": false,
    "ExecuteTime": {
     "end_time": "2023-07-31T02:09:49.792108200Z",
     "start_time": "2023-07-31T02:09:49.441793800Z"
    }
   }
  },
  {
   "cell_type": "code",
   "execution_count": 2,
   "outputs": [
    {
     "ename": "SyntaxError",
     "evalue": "incomplete input (3632077775.py, line 41)",
     "output_type": "error",
     "traceback": [
      "\u001B[1;36m  Cell \u001B[1;32mIn[2], line 41\u001B[1;36m\u001B[0m\n\u001B[1;33m    \u001B[0m\n\u001B[1;37m    ^\u001B[0m\n\u001B[1;31mSyntaxError\u001B[0m\u001B[1;31m:\u001B[0m incomplete input\n"
     ]
    }
   ],
   "source": [
    "data = [[1,\"195 W Oakland Ave,Salt Lake City\",\"UT\",\"84115\",\"10:30 AM\",\"21\",\"None\"],\n",
    "[2,\"2530 S 500 E\",\"Salt Lake City\",\"UT\",\"84106\",\"EOD,\"44,\"None\"],\n",
    "3,233 Canyon Rd,Salt Lake City,UT,84103,EOD,2,Can only be on truck 2\n",
    "4,380 W 2880 S,Salt Lake City,UT,84115,EOD,4,None\n",
    "5,410 S State St,Salt Lake City,UT,84111,EOD,5,None\n",
    "6,3060 Lester St,West Valley City,UT,84119,10:30 AM,88,Delayed on flight---will not arrive to depot until 9:05 am\n",
    "7,1330 2100 S,Salt Lake City,UT,84106,EOD,8,None\n",
    "8,300 State St,Salt Lake City,UT,84103,EOD,9,None\n",
    "9,300 State St,Salt Lake City,UT,84103,EOD,2,Wrong address listed\n",
    "10,600 E 900 South,Salt Lake City,UT,84105,EOD,1,None\n",
    "11,2600 Taylorsville Blvd,Salt Lake City,UT,84118,EOD,1,None\n",
    "12,3575 W Valley Central Station bus Loop,West Valley City,UT,84119,EOD,1,None\n",
    "13,2010 W 500 S,Salt Lake City,UT,84104,10:30 AM,2,None\n",
    "14,4300 S 1300 E,Millcreek,UT,84117,10:30 AM,88,\"Must be delivered with 15, 19\"\n",
    "15,4580 S 2300 E,Holladay,UT,84117,9:00 AM,4,None\n",
    "16,4580 S 2300 E,Holladay,UT,84117,10:30 AM,88,\"Must be delivered with 13, 19\"\n",
    "17,3148 S 1100 W,Salt Lake City,UT,84119,EOD,2,None\n",
    "18,1488 4800 S,Salt Lake City,UT,84123,EOD,6,Can only be on truck 2\n",
    "19,177 W Price Ave,Salt Lake City,UT,84115,EOD,37,None\n",
    "20,3595 Main St,Salt Lake City,UT,84115,10:30 AM,37,\"Must be delivered with 13, 15\"\n",
    "21,3595 Main St,Salt Lake City,UT,84115,EOD,3,None\n",
    "22,6351 South 900 East,Murray,UT,84121,EOD,2,None\n",
    "23,5100 South 2700 West,Salt Lake City,UT,84118,EOD,5,None\n",
    "24,5025 State St,Murray,UT,84107,EOD,7,None\n",
    "25,5383 South 900 East #104,Salt Lake City,UT,84117,10:30 AM,7,Delayed on flight---will not arrive to depot until 9:05 am\n",
    "26,5383 South 900 East #104,Salt Lake City,UT,84117,EOD,25,None\n",
    "27,1060 Dalton Ave S,Salt Lake City,UT,84104,EOD,5,None\n",
    "28,2835 Main St,Salt Lake City,UT,84115,EOD,7,Delayed on flight---will not arrive to depot until 9:05 am\n",
    "29,1330 2100 S,Salt Lake City,UT,84106,10:30 AM,2,None\n",
    "30,300 State St,Salt Lake City,UT,84103,10:30 AM,1,None\n",
    "31,3365 S 900 W,Salt Lake City,UT,84119,10:30 AM,1,None\n",
    "32,3365 S 900 W,Salt Lake City,UT,84119,EOD,1,Delayed on flight---will not arrive to depot until 9:05 am\n",
    "33,2530 S 500 E,Salt Lake City,UT,84106,EOD,1,None\n",
    "34,4580 S 2300 E,Holladay,UT,84117,10:30 AM,2,None\n",
    "35,1060 Dalton Ave S,Salt Lake City,UT,84104,EOD,88,None\n",
    "36,2300 Parkway Blvd,West Valley City,UT,84119,EOD,88,Can only be on truck 2\n",
    "37,410 S State St,Salt Lake City,UT,84111,10:30 AM,2,None\n",
    "38,410 S State St,Salt Lake City,UT,84111,EOD,9,Can only be on truck 2\n",
    "39,2010 W 500 S,Salt Lake City,UT,84104,EOD,9,None\n",
    "40,380 W 2880 S,Salt Lake City,UT,84115,10:30 AM,45,None]\n"
   ],
   "metadata": {
    "collapsed": false,
    "ExecuteTime": {
     "end_time": "2023-07-31T02:09:49.800420300Z",
     "start_time": "2023-07-31T02:09:49.794108500Z"
    }
   }
  },
  {
   "cell_type": "code",
   "execution_count": null,
   "outputs": [],
   "source": [
    "# Create a Pandas DataFrame from the list of data\n",
    "df = pd.DataFrame(data, columns=[\"package_id\", \"address\", \"city\", \"state\", \"zip\", \"delivery_time\", \"mass\", \"special_notes\"])"
   ],
   "metadata": {
    "collapsed": false
   }
  },
  {
   "cell_type": "code",
   "execution_count": null,
   "outputs": [],
   "source": [
    "# Create a Pandas Series from the \"Value\" column of the DataFrame\n",
    "series = df[\"Value\"]\n",
    "print(series)"
   ],
   "metadata": {
    "collapsed": false
   }
  }
 ],
 "metadata": {
  "kernelspec": {
   "display_name": "Python 3",
   "language": "python",
   "name": "python3"
  },
  "language_info": {
   "codemirror_mode": {
    "name": "ipython",
    "version": 2
   },
   "file_extension": ".py",
   "mimetype": "text/x-python",
   "name": "python",
   "nbconvert_exporter": "python",
   "pygments_lexer": "ipython2",
   "version": "2.7.6"
  }
 },
 "nbformat": 4,
 "nbformat_minor": 0
}
